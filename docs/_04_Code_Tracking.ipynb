{
 "cells": [
  {
   "cell_type": "markdown",
   "metadata": {
    "collapsed": true
   },
   "source": [
    "# Code Tracking\n",
    "\n",
    "Code tracking is needed to keep the local C/A code aligned as the incoming signal drifts out of alignment over time. This process is almost entirely interwoven with carrier tracking, where if one of the tracking loops is not working, it is unlikely that the other will. \n",
    "\n",
    "The basic method to track the C/A code is to mix the incoming code with a local replica, as well as two other replica codes that are a half chip out of phase with the primary. These are referred to as early, prompt, and late, where early is offset by a half chip in the negative direction, and late in the positive. \n",
    "\n",
    "Due to the cross-correlative properties of the Gold Codes, a properly aligned Gold Code multiplied by the incoming signal should approach either 1 or -1 (depending on the data bit that is being transmitted). To confirm this, we integrate and dump the result over 1ms (the time it takes for a complete Gold Code to be sent). \n",
    "\n",
    "If the result of the integration for the prompt code is greater than the result for the early or late codes, then the code is aligned correctly. If it is less or equal to the offset codes, an adjustment is made to realign the codes. This adjustment is determined by a discriminator equation similar to the carrier tracking process. "
   ]
  },
  {
   "cell_type": "code",
   "execution_count": 1,
   "metadata": {
    "collapsed": true
   },
   "outputs": [],
   "source": [
    "import numpy as np\n",
    "import matplotlib.pyplot as plt"
   ]
  },
  {
   "cell_type": "code",
   "execution_count": null,
   "metadata": {
    "collapsed": true
   },
   "outputs": [],
   "source": []
  }
 ],
 "metadata": {
  "kernelspec": {
   "display_name": "Python 3",
   "language": "python",
   "name": "python3"
  },
  "language_info": {
   "codemirror_mode": {
    "name": "ipython",
    "version": 3
   },
   "file_extension": ".py",
   "mimetype": "text/x-python",
   "name": "python",
   "nbconvert_exporter": "python",
   "pygments_lexer": "ipython3",
   "version": "3.5.2"
  }
 },
 "nbformat": 4,
 "nbformat_minor": 2
}
